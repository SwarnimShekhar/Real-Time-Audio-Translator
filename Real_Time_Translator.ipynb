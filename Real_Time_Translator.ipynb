{
 "cells": [
  {
   "cell_type": "code",
   "execution_count": 1,
   "id": "75f74a19-2b0e-4eb0-a6c5-64fbc9a09509",
   "metadata": {},
   "outputs": [
    {
     "name": "stdout",
     "output_type": "stream",
     "text": [
      "pygame 2.6.0 (SDL 2.28.4, Python 3.9.19)\n",
      "Hello from the pygame community. https://www.pygame.org/contribute.html\n"
     ]
    }
   ],
   "source": [
    "import os\n",
    "import wave\n",
    "import pyaudio\n",
    "import vosk\n",
    "import json\n",
    "from pydub import AudioSegment\n",
    "import tkinter as tk\n",
    "from tkinter import ttk, messagebox\n",
    "from googletrans import Translator\n",
    "from gtts import gTTS\n",
    "import pygame"
   ]
  },
  {
   "cell_type": "code",
   "execution_count": 2,
   "id": "ca701e94-057c-42c5-a092-43b5cf2408cb",
   "metadata": {},
   "outputs": [],
   "source": [
    "vosk_model_path = \"C:\\\\Users\\\\swarn\\\\Desktop\\\\Projects\\\\Real Time Interpreter\\\\vosk-model-small-en-us-0.15\""
   ]
  },
  {
   "cell_type": "code",
   "execution_count": 3,
   "id": "5bcef388-4662-4d5c-98d1-cdf8265f4b84",
   "metadata": {},
   "outputs": [],
   "source": [
    "def record_audio(filename, duration=5):\n",
    "    chunk = 1024\n",
    "    sample_format = pyaudio.paInt16  # 16-bit format\n",
    "    channels = 1  # Mono\n",
    "    fs = 16000  # 16kHz sample rate\n",
    "    p = pyaudio.PyAudio()\n",
    "\n",
    "    stream = p.open(format=sample_format,\n",
    "                    channels=channels,\n",
    "                    rate=fs,\n",
    "                    input=True,\n",
    "                    frames_per_buffer=chunk)\n",
    "\n",
    "    frames = []\n",
    "\n",
    "    for _ in range(0, int(fs / chunk * duration)):\n",
    "        data = stream.read(chunk)\n",
    "        frames.append(data)\n",
    "\n",
    "    stream.stop_stream()\n",
    "    stream.close()\n",
    "    p.terminate()\n",
    "\n",
    "    wf = wave.open(filename, 'wb')\n",
    "    wf.setnchannels(channels)\n",
    "    wf.setsampwidth(p.get_sample_size(sample_format))\n",
    "    wf.setframerate(fs)\n",
    "    wf.writeframes(b''.join(frames))\n",
    "    wf.close()"
   ]
  },
  {
   "cell_type": "code",
   "execution_count": 4,
   "id": "accf6440-8a82-431f-9697-bf03bd2f3cd1",
   "metadata": {},
   "outputs": [],
   "source": [
    "def convert_audio_to_16kHz(input_audio):\n",
    "    sound = AudioSegment.from_wav(input_audio)\n",
    "    sound = sound.set_frame_rate(16000).set_channels(1)  # Set to mono and 16kHz\n",
    "    output_audio = \"converted_\" + input_audio\n",
    "    sound.export(output_audio, format=\"wav\")\n",
    "    return output_audio"
   ]
  },
  {
   "cell_type": "code",
   "execution_count": 5,
   "id": "9f16b820-2c44-4a0b-979c-eb2625057cea",
   "metadata": {},
   "outputs": [],
   "source": [
    "def recognize_speech_vosk(audio_file, model_path):\n",
    "    try:\n",
    "        wf = wave.open(audio_file, \"rb\")\n",
    "        if wf.getnchannels() != 1 or wf.getsampwidth() != 2 or wf.getframerate() != 16000:\n",
    "            raise ValueError(\"Audio file must be WAV format mono PCM with a 16kHz sample rate\")\n",
    "\n",
    "        model = vosk.Model(model_path)\n",
    "        rec = vosk.KaldiRecognizer(model, wf.getframerate())\n",
    "\n",
    "        while True:\n",
    "            data = wf.readframes(4000)\n",
    "            if len(data) == 0:\n",
    "                break\n",
    "            if rec.AcceptWaveform(data):\n",
    "                result = json.loads(rec.Result())\n",
    "                return result.get('text', '')\n",
    "\n",
    "        final_result = json.loads(rec.FinalResult())\n",
    "        return final_result.get('text', '')\n",
    "    except Exception as e:\n",
    "        return f\"Error in speech recognition: {e}\""
   ]
  },
  {
   "cell_type": "code",
   "execution_count": 6,
   "id": "a25ea889-0dca-46f5-9c0d-f801a9f6736f",
   "metadata": {},
   "outputs": [],
   "source": [
    "def translate_text(text, src_lang, dest_lang):\n",
    "    translator = Translator()\n",
    "    translated = translator.translate(text, src=src_lang, dest=dest_lang)\n",
    "    return translated.text"
   ]
  },
  {
   "cell_type": "code",
   "execution_count": 7,
   "id": "c05ce384-26b6-4601-9855-4a9f3e0564f3",
   "metadata": {},
   "outputs": [],
   "source": [
    "def text_to_speech(text, lang, filename):\n",
    "    if os.path.exists(filename):\n",
    "        os.remove(filename)  # Ensure the file is deleted before saving new content\n",
    "    tts = gTTS(text=text, lang=lang)\n",
    "    tts.save(filename)"
   ]
  },
  {
   "cell_type": "code",
   "execution_count": 8,
   "id": "e00a8f36-e49d-464b-9711-138081c7c08b",
   "metadata": {},
   "outputs": [],
   "source": [
    "def play_audio(filename):\n",
    "    pygame.mixer.init()\n",
    "    pygame.mixer.music.load(filename)\n",
    "    pygame.mixer.music.play()\n",
    "    while pygame.mixer.music.get_busy():\n",
    "        pygame.time.Clock().tick(10)"
   ]
  },
  {
   "cell_type": "code",
   "execution_count": 9,
   "id": "e9e37f01-bf6b-44db-b6d7-43f91d9b154b",
   "metadata": {},
   "outputs": [],
   "source": [
    "def on_submit():\n",
    "    input_lang = input_lang_var.get()\n",
    "    output_lang = output_lang_var.get()\n",
    "\n",
    "    # Disable the submit button and show \"Listening...\" message\n",
    "    submit_button.config(state=tk.DISABLED)\n",
    "    status_label.config(text=\"Listening... Please speak.\")\n",
    "    root.update_idletasks()  # Update UI to reflect the change immediately\n",
    "\n",
    "    record_audio(\"input.wav\")\n",
    "    converted_audio = convert_audio_to_16kHz(\"input.wav\")\n",
    "\n",
    "    status_label.config(text=\"Processing... Please wait.\")\n",
    "    root.update_idletasks()\n",
    "\n",
    "    recognized_text = recognize_speech_vosk(converted_audio, vosk_model_path)\n",
    "    if recognized_text.startswith(\"Error\"):\n",
    "        messagebox.showerror(\"Error\", recognized_text)\n",
    "        submit_button.config(state=tk.NORMAL)\n",
    "        status_label.config(text=\"\")\n",
    "        return\n",
    "\n",
    "    translated_text = translate_text(recognized_text, input_lang, output_lang)\n",
    "    text_to_speech(translated_text, output_lang, \"output.mp3\")\n",
    "    play_audio(\"output.mp3\")\n",
    "\n",
    "    # Enable the submit button and clear the status message\n",
    "    submit_button.config(state=tk.NORMAL)\n",
    "    status_label.config(text=\"\")\n",
    "    \n",
    "    # Display the recognized text and translated text in a message box\n",
    "    messagebox.showinfo(\"Recognized Text\", f\"Recognized Text: {recognized_text}\\nTranslated Text: {translated_text}\")"
   ]
  },
  {
   "cell_type": "code",
   "execution_count": 10,
   "id": "2e59d85b-0ddc-4717-9b9c-2a53f38b4fec",
   "metadata": {},
   "outputs": [],
   "source": [
    "root = tk.Tk()\n",
    "root.title(\"Language Translator\")\n",
    "\n",
    "input_lang_var = tk.StringVar()\n",
    "output_lang_var = tk.StringVar()\n",
    "\n",
    "languages = [\"en\", \"es\", \"fr\", \"de\", \"zh-cn\", \"ja\", \"hi\", \"ar\"]\n",
    "\n",
    "tk.Label(root, text=\"Select Input Language\").pack(pady=10)\n",
    "input_lang_menu = ttk.Combobox(root, textvariable=input_lang_var)\n",
    "input_lang_menu['values'] = languages\n",
    "input_lang_menu.pack(pady=10)\n",
    "\n",
    "tk.Label(root, text=\"Select Output Language\").pack(pady=10)\n",
    "output_lang_menu = ttk.Combobox(root, textvariable=output_lang_var)\n",
    "output_lang_menu['values'] = languages\n",
    "output_lang_menu.pack(pady=10)\n",
    "\n",
    "submit_button = tk.Button(root, text=\"Submit\", command=on_submit)\n",
    "submit_button.pack(pady=20)\n",
    "\n",
    "# Status label for showing \"Listening...\" or \"Processing...\" messages\n",
    "status_label = tk.Label(root, text=\"\", fg=\"blue\")\n",
    "status_label.pack(pady=10)\n",
    "\n",
    "root.mainloop()"
   ]
  }
 ],
 "metadata": {
  "kernelspec": {
   "display_name": "Python 3 (ipykernel)",
   "language": "python",
   "name": "python3"
  },
  "language_info": {
   "codemirror_mode": {
    "name": "ipython",
    "version": 3
   },
   "file_extension": ".py",
   "mimetype": "text/x-python",
   "name": "python",
   "nbconvert_exporter": "python",
   "pygments_lexer": "ipython3",
   "version": "3.9.19"
  }
 },
 "nbformat": 4,
 "nbformat_minor": 5
}
